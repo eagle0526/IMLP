{
 "cells": [
  {
   "cell_type": "markdown",
   "id": "865d079b",
   "metadata": {},
   "source": [
    "# 向量內積的計算"
   ]
  },
  {
   "cell_type": "code",
   "execution_count": 1,
   "id": "76b2ea6c",
   "metadata": {},
   "outputs": [
    {
     "name": "stdout",
     "output_type": "stream",
     "text": [
      "cos值 = 0.0\n",
      "角度是 = 90.0\n"
     ]
    }
   ],
   "source": [
    "import numpy as np\n",
    "import math\n",
    "\n",
    "a = np.array([1, 1])\n",
    "b = np.array([5, 5])\n",
    "c = np.array([1, 5])\n",
    "d = np.array([5, 1])\n",
    "\n",
    "ab = b - a                              # 向量ab\n",
    "cd = d - c                              # 向量bc\n",
    "\n",
    "norm_a = np.linalg.norm(ab)             # 計算向量大小\n",
    "norm_b = np.linalg.norm(cd)             # 計算向量大小\n",
    "                    \n",
    "dot_ab = np.dot(ab, cd)                 # 計算向量內積\n",
    "\n",
    "cos_angle = dot_ab / (norm_a * norm_b)  # 計算cos值\n",
    "print(\"cos值 = {}\".format(cos_angle))\n",
    "rad = math.acos(cos_angle)              # acos轉成弧度\n",
    "deg = math.degrees(rad)                 # 轉成角度\n",
    "print('角度是 = {}'.format(deg))\n",
    "\n"
   ]
  },
  {
   "cell_type": "markdown",
   "id": "ddf49c2b",
   "metadata": {},
   "source": [
    "# 題目：判斷下列句子的相似程度\n",
    "Q：計算AB、AC、BC的相似程度\n",
    "```\n",
    "1. 機器與機械\n",
    "2. 學習機器碼\n",
    "3. 機器人學習\n",
    "\n",
    "A = (2,1,1,1,0,0,0,0)\n",
    "B = (1,1,0,0,1,1,1,0)\n",
    "C = (1,1,0,0,1,1,0,1)\n",
    "```\n",
    "\n",
    "![image.png](images/cos_similarity.PNG)\n",
    "\n",
    "Cosine:  $$\\theta(x,y)=\\frac{x \\bullet y}{ \\sqrt{x \\bullet x} \\sqrt{y \\bullet y}}$$"
   ]
  },
  {
   "cell_type": "code",
   "execution_count": 31,
   "id": "ee8d404b",
   "metadata": {},
   "outputs": [
    {
     "name": "stdout",
     "output_type": "stream",
     "text": [
      "A 和 B 相似度 = 0.507\n",
      "A 和 C 相似度 = 0.507\n",
      "B 和 C 相似度 = 0.800\n"
     ]
    }
   ],
   "source": [
    "import numpy as np\n",
    "\n",
    "def cosine_similarity(vx, vy):\n",
    "    norm_x = np.linalg.norm(vx)                 # 計算向量大小\n",
    "    norm_y = np.linalg.norm(vy)                 # 計算向量大小\n",
    "    dot_xy = np.dot(vx, vy)                     # 計算向量內積\n",
    "    return (dot_xy / (norm_x * norm_y))         # 回傳相似度\n",
    "\n",
    "A = np.array([2, 1, 1, 1, 0, 0, 0, 0])\n",
    "B = np.array([1, 1, 0, 0, 1, 1, 1, 0])\n",
    "C = np.array([1, 1, 0, 0, 1, 1, 0, 1])\n",
    "print('A 和 B 相似度 = {0:5.3f}'.format(cosine_similarity(A, B)))\n",
    "print('A 和 C 相似度 = {0:5.3f}'.format(cosine_similarity(A, C)))\n",
    "print('B 和 C 相似度 = {0:5.3f}'.format(cosine_similarity(B, C)))\n",
    "\n",
    "\n",
    "\n",
    "\n"
   ]
  },
  {
   "cell_type": "code",
   "execution_count": null,
   "id": "78e2e704",
   "metadata": {},
   "outputs": [],
   "source": []
  },
  {
   "cell_type": "code",
   "execution_count": 15,
   "id": "5df57c53",
   "metadata": {},
   "outputs": [
    {
     "name": "stdout",
     "output_type": "stream",
     "text": [
      "cos值 = -0.33633639699815626\n",
      "角度是 = 109.65382405805332\n"
     ]
    },
    {
     "data": {
      "text/plain": [
       "[<matplotlib.lines.Line2D at 0x224b5a45eb0>]"
      ]
     },
     "execution_count": 15,
     "metadata": {},
     "output_type": "execute_result"
    },
    {
     "data": {
      "image/png": "[encoded data removed]",
      "text/plain": [
       "<Figure size 432x288 with 1 Axes>"
      ]
     },
     "metadata": {
      "needs_background": "light"
     },
     "output_type": "display_data"
    }
   ],
   "source": [
    "import numpy as np\n",
    "import math\n",
    "import matplotlib.pyplot as plt\n",
    "\n",
    "a = np.array([4, 1])\n",
    "b = np.array([3, 5])\n",
    "c = np.array([9, 5])\n",
    "d = np.array([3, 1])\n",
    "\n",
    "ab = b - a                              # 向量ab\n",
    "cd = d - c                              # 向量bc\n",
    "\n",
    "norm_a = np.linalg.norm(ab)             # 計算向量大小\n",
    "norm_b = np.linalg.norm(cd)             # 計算向量大小\n",
    "                    \n",
    "dot_ab = np.dot(ab, cd)                 # 計算向量內積\n",
    "\n",
    "cos_angle = dot_ab / (norm_a * norm_b)  # 計算cos值\n",
    "print(\"cos值 = {}\".format(cos_angle))\n",
    "rad = math.acos(cos_angle)              # acos轉成弧度\n",
    "deg = math.degrees(rad)                 # 轉成角度\n",
    "print('角度是 = {}'.format(deg))\n",
    "\n",
    "plt.plot(a, b)\n",
    "plt.plot(c, d)"
   ]
  },
  {
   "cell_type": "code",
   "execution_count": 26,
   "id": "eb88fb41",
   "metadata": {},
   "outputs": [
    {
     "name": "stdout",
     "output_type": "stream",
     "text": [
      "-52\n",
      "-0.8221921916437785\n"
     ]
    },
    {
     "data": {
      "text/plain": [
       "[<matplotlib.lines.Line2D at 0x224b5c84cd0>]"
      ]
     },
     "execution_count": 26,
     "metadata": {},
     "output_type": "execute_result"
    },
    {
     "data": {
      "image/png": "[encoded data removed]",
      "text/plain": [
       "<Figure size 432x288 with 1 Axes>"
      ]
     },
     "metadata": {
      "needs_background": "light"
     },
     "output_type": "display_data"
    }
   ],
   "source": [
    "#練習\n",
    "\n",
    "#先給4個點\n",
    "A = np.array([9, 1])\n",
    "B = np.array([6, 5])\n",
    "C = np.array([1, 5])\n",
    "D = np.array([13, 1])\n",
    "\n",
    "#計算AB、CD向量\n",
    "AB = B-A\n",
    "CD = D-C\n",
    "\n",
    "#計算向量的長度\n",
    "norm_AB = np.linalg.norm(AB)\n",
    "norm_CD = np.linalg.norm(CD)\n",
    "\n",
    "#計算向量內積\n",
    "dot_ABCD = np.dot(AB, CD)\n",
    "print(dot_ABCD)\n",
    "#計算COS值\n",
    "COS = dot_ABCD / (norm_AB*norm_CD)\n",
    "print(COS)\n",
    "#計算COS弧度\n",
    "cos_angle = math.acos(COS)\n",
    "\n",
    "#計算角度\n",
    "deg = math.degrees(cos_angle)\n",
    "\n",
    "deg\n",
    "\n",
    "\n",
    "plt.plot(A, B)\n",
    "plt.plot(C, D)"
   ]
  }
 ],
 "metadata": {
  "kernelspec": {
   "display_name": "Python 3 (ipykernel)",
   "language": "python",
   "name": "python3"
  },
  "language_info": {
   "codemirror_mode": {
    "name": "ipython",
    "version": 3
   },
   "file_extension": ".py",
   "mimetype": "text/x-python",
   "name": "python",
   "nbconvert_exporter": "python",
   "pygments_lexer": "ipython3",
   "version": "3.9.7"
  }
 },
 "nbformat": 4,
 "nbformat_minor": 5
}
