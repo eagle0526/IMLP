{
 "cells": [
  {
   "cell_type": "markdown",
   "metadata": {},
   "source": [
    "# Linear Regression\n"
   ]
  },
  {
   "cell_type": "code",
   "execution_count": 1,
   "metadata": {},
   "outputs": [],
   "source": [
    "%matplotlib inline\n",
    "import numpy as np\n",
    "import matplotlib.pyplot as plt"
   ]
  },
  {
   "cell_type": "markdown",
   "metadata": {},
   "source": [
    "## 2.  線性迴歸訓練資料、測試資料\n",
    "\n",
    "80%  training data, 20%  testing data ==> 先利用此來驗證各種模型(演算法)的好壞及調好到最佳參數\n",
    "之後可以利用由這個80%的訓練資料所得的模型後,拿100%資料re-train模型以得到最佳模型 (此model會更佳fit data)\n"
   ]
  },
  {
   "cell_type": "code",
   "execution_count": 2,
   "metadata": {},
   "outputs": [],
   "source": [
    "from sklearn.model_selection import train_test_split\n",
    "from sklearn.linear_model import LinearRegression"
   ]
  },
  {
   "cell_type": "code",
   "execution_count": 7,
   "metadata": {},
   "outputs": [
    {
     "name": "stdout",
     "output_type": "stream",
     "text": [
      "[4.08163265 1.73469388 1.83673469 0.         2.75510204 3.36734694\n",
      " 3.67346939 4.28571429 1.02040816 0.30612245 4.18367347 1.32653061\n",
      " 4.69387755 0.20408163 3.87755102 3.97959184 0.51020408 4.3877551\n",
      " 3.7755102  3.06122449 0.6122449  2.95918367 1.63265306 1.93877551\n",
      " 5.         4.48979592 2.14285714 3.26530612 3.46938776 0.71428571\n",
      " 2.24489796 1.12244898 2.04081633 0.91836735 4.89795918 2.85714286\n",
      " 3.16326531 1.53061224 2.65306122 3.57142857]\n"
     ]
    }
   ],
   "source": [
    "#生成X,y資料集後\n",
    "x = np.linspace(0, 5, 50)\n",
    "\n",
    "#Y資料我先預設生成一個斜率1.2 - 截距0.8\n",
    "y = 1.2*x + 0.8 + 0.6*np.random.randn(50)\n",
    "\n",
    "\n",
    "#再切分資料集 - train、test - random_state = 固定被打亂的資料集\n",
    "x_train, x_test, y_train, y_test = train_test_split(x, y, test_size=0.2, random_state=20)\n",
    "print(x_train)\n"
   ]
  },
  {
   "cell_type": "code",
   "execution_count": 9,
   "metadata": {},
   "outputs": [
    {
     "data": {
      "text/plain": [
       "array([1.54846706, 0.34687309, 0.37951443, 1.10300812, 0.72652378,\n",
       "       0.664425  , 1.13839168, 1.19148206, 2.40348702, 1.77851791,\n",
       "       1.76073071, 2.03847725, 2.18717126, 2.19507929, 1.74943449,\n",
       "       2.44711906, 2.41329985, 4.01344991, 2.5431732 , 3.62529199,\n",
       "       2.98091115, 2.66715278, 3.31743577, 3.74860575, 3.59979561,\n",
       "       4.24218964, 4.27781544, 4.5088611 , 3.89111852, 4.0203383 ,\n",
       "       4.72756825, 4.76202454, 5.79255672, 5.3590769 , 5.33729965,\n",
       "       4.59485809, 4.27247043, 5.94491177, 5.23647973, 6.13262304,\n",
       "       5.19222792, 6.04518097, 6.54011681, 5.5669958 , 6.02267656,\n",
       "       6.38162925, 6.35851828, 5.72470028, 6.59403874, 7.42229747])"
      ]
     },
     "execution_count": 9,
     "metadata": {},
     "output_type": "execute_result"
    }
   ],
   "source": [
    "y"
   ]
  },
  {
   "cell_type": "code",
   "execution_count": 10,
   "metadata": {},
   "outputs": [
    {
     "data": {
      "text/plain": [
       "<matplotlib.collections.PathCollection at 0x23159491fd0>"
      ]
     },
     "execution_count": 10,
     "metadata": {},
     "output_type": "execute_result"
    },
    {
     "data": {
      "image/png": "[encoded data removed]",
      "text/plain": [
       "<Figure size 432x288 with 1 Axes>"
      ]
     },
     "metadata": {
      "needs_background": "light"
     },
     "output_type": "display_data"
    }
   ],
   "source": [
    "plt.scatter(x_train, y_train)"
   ]
  },
  {
   "cell_type": "markdown",
   "metadata": {},
   "source": [
    "#### 用訓練資料來 fit 函數\n",
    "\n",
    "記得現在我們只用 80% 的資料去訓練。"
   ]
  },
  {
   "cell_type": "code",
   "execution_count": 11,
   "metadata": {
    "scrolled": true
   },
   "outputs": [
    {
     "name": "stdout",
     "output_type": "stream",
     "text": [
      "Coefficients:  [1.27256322]\n",
      "interception:  0.5923954453878921\n"
     ]
    }
   ],
   "source": [
    "#先呼叫線性函數\n",
    "regr = LinearRegression()\n",
    "\n",
    "#轉成2維\n",
    "X_train = x_train.reshape(-1,1)\n",
    "\n",
    "#把Xtrain和Ytrain丟給機器學習\n",
    "regr.fit(X_train,y_train)\n",
    "\n",
    "#算出截距和斜率\n",
    "print('Coefficients: ', regr.coef_)\n",
    "print('interception: ', regr.intercept_)"
   ]
  },
  {
   "cell_type": "code",
   "execution_count": 12,
   "metadata": {},
   "outputs": [],
   "source": [
    "#用Xtrain出來的數字，找出新的預測值 - 給他Ytrain\n",
    "Y_train = regr.predict(X_train)\n"
   ]
  },
  {
   "cell_type": "code",
   "execution_count": 13,
   "metadata": {},
   "outputs": [
    {
     "name": "stdout",
     "output_type": "stream",
     "text": [
      "0.23599911848412267\n"
     ]
    }
   ],
   "source": [
    "#來看看目前這個模型好不好 = MSE狀況\n",
    "mse = np.sum((Y_train-y_train)**2) / len(y_train)\n",
    "print(mse)"
   ]
  },
  {
   "cell_type": "code",
   "execution_count": 14,
   "metadata": {},
   "outputs": [
    {
     "data": {
      "text/plain": [
       "[<matplotlib.lines.Line2D at 0x2315ac16d00>]"
      ]
     },
     "execution_count": 14,
     "metadata": {},
     "output_type": "execute_result"
    },
    {
     "data": {
      "image/png": "[encoded data removed]",
      "text/plain": [
       "<Figure size 432x288 with 1 Axes>"
      ]
     },
     "metadata": {
      "needs_background": "light"
     },
     "output_type": "display_data"
    }
   ],
   "source": [
    "#把原始的圖和新預測的圖畫出來比較\n",
    "plt.scatter(x_train, y_train) #原始\n",
    "plt.plot(x_train, Y_train, 'r') #預測"
   ]
  },
  {
   "cell_type": "markdown",
   "metadata": {},
   "source": [
    "#### test with test data"
   ]
  },
  {
   "cell_type": "code",
   "execution_count": 15,
   "metadata": {},
   "outputs": [
    {
     "name": "stdout",
     "output_type": "stream",
     "text": [
      "[2.15063612 2.4103429  1.111809   1.63122256 6.43579799 0.72224884\n",
      " 3.83873019 3.7088768  6.69550477 3.57902341]\n"
     ]
    }
   ],
   "source": [
    "#上面已經用Train的資料看完預測狀況，現在拿全新資料，TEST資料進去模型裡面看狀況\n",
    "X_test = x_test.reshape(-1,1)  #記得也要轉2維\n",
    "Y_test = regr.predict(X_test)  #把Xtest丟進模型，生成新的預測值Ytest\n",
    "\n",
    "print(Y_test)"
   ]
  },
  {
   "cell_type": "markdown",
   "metadata": {},
   "source": [
    "$$\\widehat{y}=xw+b=w_{1}x_{1}+b$$"
   ]
  },
  {
   "cell_type": "code",
   "execution_count": 16,
   "metadata": {},
   "outputs": [
    {
     "data": {
      "text/plain": [
       "array([[2.15063612],\n",
       "       [2.4103429 ],\n",
       "       [1.111809  ],\n",
       "       [1.63122256],\n",
       "       [6.43579799],\n",
       "       [0.72224884],\n",
       "       [3.83873019],\n",
       "       [3.7088768 ],\n",
       "       [6.69550477],\n",
       "       [3.57902341]])"
      ]
     },
     "execution_count": 16,
     "metadata": {},
     "output_type": "execute_result"
    }
   ],
   "source": [
    "#Y=WX+b\n",
    "\n",
    "#另外一種求值方式 - 把斜率、截距算出來，再把Xtest丟進去\n",
    "W=regr.coef_\n",
    "b=regr.intercept_\n",
    "W*X_test+b\n"
   ]
  },
  {
   "cell_type": "code",
   "execution_count": 17,
   "metadata": {},
   "outputs": [
    {
     "name": "stdout",
     "output_type": "stream",
     "text": [
      "0.24727108125749436\n"
     ]
    }
   ],
   "source": [
    "#可以來看全新的資料 - XTEST在模型表現的狀況\n",
    "\n",
    "#\"\"\"此為最終大家要找的數字\"\"\"\n",
    "\n",
    "mse = np.sum((Y_test-y_test)**2) / len(y_test)\n",
    "print(mse)"
   ]
  },
  {
   "cell_type": "code",
   "execution_count": 18,
   "metadata": {
    "scrolled": false
   },
   "outputs": [
    {
     "data": {
      "text/plain": [
       "<matplotlib.legend.Legend at 0x2315ac91c40>"
      ]
     },
     "execution_count": 18,
     "metadata": {},
     "output_type": "execute_result"
    },
    {
     "data": {
      "image/png": "[encoded data removed]",
      "text/plain": [
       "<Figure size 432x288 with 1 Axes>"
      ]
     },
     "metadata": {
      "needs_background": "light"
     },
     "output_type": "display_data"
    }
   ],
   "source": [
    "#畫完整圖示 - MSE越小越好\n",
    "title='f(x)=1.2x+0.8'+',mse:'+str(round(mse,2))\n",
    "plt.title(title)\n",
    "plt.xlabel('x')\n",
    "plt.ylabel('y')\n",
    "#plt.grid(True)\n",
    "\n",
    "#藍色代表的是實際資料\n",
    "plt.scatter(x_test, y_test,alpha=0.8,label='Ground Truth')\n",
    "\n",
    "#紅色代表的是預測出來的資料\n",
    "plt.scatter(x_test, Y_test, c='r', alpha=0.8,label='Predict')\n",
    "plt.legend()"
   ]
  },
  {
   "cell_type": "code",
   "execution_count": null,
   "metadata": {},
   "outputs": [],
   "source": []
  },
  {
   "cell_type": "code",
   "execution_count": null,
   "metadata": {},
   "outputs": [],
   "source": []
  }
 ],
 "metadata": {
  "anaconda-cloud": {},
  "kernelspec": {
   "display_name": "Python 3 (ipykernel)",
   "language": "python",
   "name": "python3"
  },
  "language_info": {
   "codemirror_mode": {
    "name": "ipython",
    "version": 3
   },
   "file_extension": ".py",
   "mimetype": "text/x-python",
   "name": "python",
   "nbconvert_exporter": "python",
   "pygments_lexer": "ipython3",
   "version": "3.9.7"
  }
 },
 "nbformat": 4,
 "nbformat_minor": 1
}
